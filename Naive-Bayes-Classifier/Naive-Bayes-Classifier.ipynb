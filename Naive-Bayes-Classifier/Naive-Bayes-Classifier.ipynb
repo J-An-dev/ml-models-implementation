{
 "cells": [
  {
   "cell_type": "markdown",
   "metadata": {},
   "source": [
    "# Naive Bayes Classifier\n",
    "This scenario analyzes the data consists of 4600 labeled examples of spam and non-spam emails with Naive Bayes Classifier model. The feature vector $x$ is a 54-dimensional vector extracted from the email and $y = 1$ indicates a spam email. In every experiment below, I *randomly* partition the data into 10 groups and run the algorithm 10 different times so that each group is held out as a test set one time. The final result showed is the\n",
    "cumulative result across these 10 groups."
   ]
  },
  {
   "cell_type": "markdown",
   "metadata": {},
   "source": [
    "---\n",
    "## Problem 1:\n",
    "\n",
    "> Implement the Naive Bayes Classifier described above. In a $2 \\times 2$ table, write the number of times that you predicted a class $y$ data point (ground truth) as a class $y'$ data point (model prediction) in the $(y,y')$-th cell of the table, where $y$ and $y'$ can be either 0 or 1. Next to your table, write the prediction accuracy---the sum of the diagonal divided by 4600. (The sum of all entries in the table should be 4600.)"
   ]
  },
  {
   "cell_type": "markdown",
   "metadata": {},
   "source": [
    "|         | $y' = 0$ | $y' = 1$ |\n",
    "|:---------:|:----------:|:----------:|\n",
    "| $y = 0$ |&nbsp; 2294 &nbsp;|&nbsp;103&nbsp;|\n",
    "| $y = 1$ |&nbsp;493&nbsp;|&nbsp; 1710 &nbsp;|\n",
    "\n",
    "\n",
    "Prediction accuracy is: $(2294+1710)/4600 = 0.870 = 87.0\\%$"
   ]
  },
  {
   "cell_type": "markdown",
   "metadata": {},
   "source": [
    "---\n",
    "## Problem 2:\n",
    "> In one figure, show a stem plot of the 54 Poisson parameters for each class averaged across the 10 runs. (This average is only used for plotting purposes in this problem. In practice you would relearn these parameters using the entire data set to find their final values.) Use the README file in the data folder to make an observation about dimensions 16 and 52."
   ]
  },
  {
   "cell_type": "markdown",
   "metadata": {},
   "source": [
    "The stem plot of the 54 Poission parameters for each class averaged across the 10 runs is showed as follows:"
   ]
  },
  {
   "cell_type": "markdown",
   "metadata": {},
   "source": [
    "|![](images/poission.png)|\n",
    "|:--:|\n",
    "|54 Poission parameters for two Classes|"
   ]
  },
  {
   "cell_type": "markdown",
   "metadata": {},
   "source": [
    "According to the README file in the data folder, the 16th dimension is the word \"free\" and the 52th dimension is the word \"!\". After averaged across the 10 runs, the Poission parameters for 16th dimension and the 52th dimension are showed below:"
   ]
  },
  {
   "cell_type": "markdown",
   "metadata": {},
   "source": [
    "|Dimension|Class 0|Class 1|\n",
    "|:----:|:----:|:----:|\n",
    "|16th|0.7396|5.2142|\n",
    "|52th|1.0961|5.1296|"
   ]
  },
  {
   "cell_type": "markdown",
   "metadata": {},
   "source": [
    "We can tell from the table above, both words \"free\" and \"!\" have much higher parameters for Class 1 compared to Class 0. Since the parameters tell the frequency the word apperas in every class, it is clear that when given a email, if there is the word \"free\" or \"!\" appears in it, it is more likely to be a spam email instead of normal non-spam email."
   ]
  }
 ],
 "metadata": {
  "kernelspec": {
   "display_name": "Python 3.7.6 64-bit ('ml': conda)",
   "language": "python",
   "name": "python37664bitmlconda706340e93e3048b4937743173be114e4"
  },
  "language_info": {
   "codemirror_mode": {
    "name": "ipython",
    "version": 3
   },
   "file_extension": ".py",
   "mimetype": "text/x-python",
   "name": "python",
   "nbconvert_exporter": "python",
   "pygments_lexer": "ipython3",
   "version": "3.7.6"
  }
 },
 "nbformat": 4,
 "nbformat_minor": 2
}
