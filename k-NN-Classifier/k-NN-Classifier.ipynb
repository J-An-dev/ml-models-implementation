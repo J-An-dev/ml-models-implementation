{
 "cells": [
  {
   "cell_type": "markdown",
   "metadata": {},
   "source": [
    "# k-NN Classifier\n",
    "This scenario analyzes the data consists of 4600 labeled examples of spam and non-spam emails with k-NN Classifier model. The feature vector $x$ is a 54-dimensional vector extracted from the email and $y = 1$ indicates a spam email. In every experiment below, I *randomly* partition the data into 10 groups and run the algorithm 10 different times so that each group is held out as a test set one time. The final result showed is the cumulative result across these 10 groups."
   ]
  },
  {
   "cell_type": "markdown",
   "metadata": {},
   "source": [
    "---\n",
    "## Problem 1:\n",
    "> Implement the $k$-NN classifier for $k = 1,...,20$. Use the $\\mathcal{L}_1$ distance for this problem. Plot the prediction accuracy as a function of $k$."
   ]
  },
  {
   "cell_type": "markdown",
   "metadata": {},
   "source": [
    "The plot of the prediction accuracy as a function of $k$ as shown below:"
   ]
  },
  {
   "cell_type": "markdown",
   "metadata": {},
   "source": [
    "|![](images/knn.png)|\n",
    "|:--:|\n",
    "|The prediction accuracy of $k$-NN Classifier as a function of $k$|"
   ]
  },
  {
   "cell_type": "markdown",
   "metadata": {},
   "source": [
    "When $k=13$ gives the highest accuracy around 87.3\\% in this dataset partition."
   ]
  }
 ],
 "metadata": {
  "kernelspec": {
   "display_name": "Python 3.7.6 64-bit ('ml': conda)",
   "language": "python",
   "name": "python37664bitmlconda706340e93e3048b4937743173be114e4"
  },
  "language_info": {
   "codemirror_mode": {
    "name": "ipython",
    "version": 3
   },
   "file_extension": ".py",
   "mimetype": "text/x-python",
   "name": "python",
   "nbconvert_exporter": "python",
   "pygments_lexer": "ipython3",
   "version": "3.7.6"
  }
 },
 "nbformat": 4,
 "nbformat_minor": 2
}
