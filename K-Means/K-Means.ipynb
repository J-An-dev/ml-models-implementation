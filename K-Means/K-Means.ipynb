{
 "cells": [
  {
   "cell_type": "markdown",
   "metadata": {},
   "source": [
    "# K-Means\n",
    "\n",
    "Implement the K-Means algorithm discussed in class. Generate 500 observations from a mixture of three\n",
    "Gaussians on $\\mathbb{R}^2$ with mixing weights $\\pi = [0.2,0.5,0.3]$ and means $\\mu$ and covariances $\\Sigma$,\n",
    "$$\\mu_1 = \\begin{bmatrix} 0 \\\\ 0 \\end{bmatrix}, \\Sigma_1 = \\begin{bmatrix} 1 & 0 \\ 0 & 1 \\end{bmatrix}, \\mu_2 = \\begin{bmatrix} 3 \\\\ 0 \\end{bmatrix}, \\Sigma_2 = \\begin{bmatrix} 1 & 0 \\\\ 0 & 1 \\end{bmatrix}, \\mu_3 = \\begin{bmatrix} 0 \\\\ 3 \\end{bmatrix}, \\Sigma_3 = \\begin{bmatrix} 1 & 0 \\\\ 0 & 1 \\end{bmatrix}$$"
   ]
  },
  {
   "cell_type": "markdown",
   "metadata": {},
   "source": [
    "---\n",
    "## Problem 1:\n",
    "> For $K = 2, 3, 4, 5$, plot the value of the K-Means objective function per iteration for 20 iterations (the algorithm may converge before that)."
   ]
  },
  {
   "cell_type": "markdown",
   "metadata": {},
   "source": [
    "|![](images/fig1.png)|\n",
    "|:---:|\n",
    "|Object function value per iteration|"
   ]
  },
  {
   "cell_type": "markdown",
   "metadata": {},
   "source": [
    "---\n",
    "## Problem 2:\n",
    "> For $K=3,5$, plot the 500 data points and indicate the cluster of each for the final iteration by marking it with a color or a symbol."
   ]
  },
  {
   "cell_type": "markdown",
   "metadata": {},
   "source": [
    "|![](images/fig2.png)|![](images/fig3.png)|\n",
    "|:---:|:---:|\n",
    "|$K=3$ result|$K=5$ result|"
   ]
  }
 ],
 "metadata": {
  "kernelspec": {
   "display_name": "Python 3.7.6 64-bit ('ml': conda)",
   "language": "python",
   "name": "python37664bitmlconda706340e93e3048b4937743173be114e4"
  },
  "language_info": {
   "codemirror_mode": {
    "name": "ipython",
    "version": 3
   },
   "file_extension": ".py",
   "mimetype": "text/x-python",
   "name": "python",
   "nbconvert_exporter": "python",
   "pygments_lexer": "ipython3",
   "version": "3.7.6"
  }
 },
 "nbformat": 4,
 "nbformat_minor": 4
}
