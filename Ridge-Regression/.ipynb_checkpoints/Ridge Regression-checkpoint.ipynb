{
 "cells": [
  {
   "cell_type": "markdown",
   "metadata": {},
   "source": [
    "# Ridge Regression\n",
    "This scenario analyzes data using the reige regression techniques. The goal of the problem is to predict the miles per gallon a car will get using six quantities (features) about that car. The data is broken into training and testing sets. Each row in both “$X$” files contain six features for a single car (plus a 1 in the 7th dimension) and the same row in the corresponding “$y$” file contains the miles per gallon for that car."
   ]
  },
  {
   "cell_type": "markdown",
   "metadata": {},
   "source": [
    "1. Given the ridge regression problem $\\mathcal{L} = \\lambda \\|w\\|^2 + \\sum^{350}_{i=1} \\|y_i - x^T_i W\\|^2$, for $\\lambda = 0,1,2,...,5000$, solve for $w_{\\rm RR}$. (Notice that when $\\lambda = 0$, $w_{\\rm RR} = w_{\\rm LS}$.) In one figure, plot the 7 values in $w_{\\rm RR}$ as a function of $df(\\lambda)$. 7 curves are labeled by their dimension in $x$."
   ]
  },
  {
   "cell_type": "code",
   "execution_count": null,
   "metadata": {},
   "outputs": [],
   "source": []
  }
 ],
 "metadata": {
  "kernelspec": {
   "display_name": "Python 3",
   "language": "python",
   "name": "python3"
  },
  "language_info": {
   "codemirror_mode": {
    "name": "ipython",
    "version": 3
   },
   "file_extension": ".py",
   "mimetype": "text/x-python",
   "name": "python",
   "nbconvert_exporter": "python",
   "pygments_lexer": "ipython3",
   "version": "3.7.6"
  }
 },
 "nbformat": 4,
 "nbformat_minor": 4
}
