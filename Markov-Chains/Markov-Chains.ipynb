{
 "cells": [
  {
   "cell_type": "markdown",
   "metadata": {},
   "source": [
    "# Markov Chains\n",
    "This scenario ranks 769 college football teams based on the scores of every game in the 2019 season using the Markov Chains techniques. The data provided in `CFB2019_scores.csv` contains the result of one game on each line in the format `Team A index, Team A points, Team B index, Team B points.` If Team A has more points than Team B, then Team A wins, and vice versa. The index of a team refers to the row of “TeamNames.txt” where that team’s name can be found.\n",
    "\n",
    "Construct a $769 \\times 769$ random walk matrix $M$ on the college football teams. First construct the unnormalized matrix $\\widehat{M}$ with values initialized to zeros. For one particular game, let $i$ be the index of Team A and $j$ the index of Team B. Then update\n",
    "$$\\widehat{M}_{ii} \\leftarrow \\widehat{M}_{ii} + \\mathbb{1}\\{\\text{Team A wins} \\} + \\frac{\\text{points}_i}{\\text{points}_i + \\text{points}_j},$$\n",
    "$$\\widehat{M}_{jj} \\leftarrow \\widehat{M}_{jj} + \\mathbb{1}\\{\\text{Team B wins} \\} + \\frac{\\text{points}_j}{\\text{points}_i + \\text{points}_j},$$\n",
    "$$\\widehat{M}_{ij} \\leftarrow \\widehat{M}_{ij} + \\mathbb{1}\\{\\text{Team B wins} \\} + \\frac{\\text{points}_j}{\\text{points}_i + \\text{points}_j},$$\n",
    "$$\\widehat{M}_{ji} \\leftarrow \\widehat{M}_{ji} + \\mathbb{1}\\{\\text{Team A wins} \\} + \\frac{\\text{points}_i}{\\text{points}_i + \\text{points}_j}.$$\n",
    "\n",
    "After processing all games, let $M$ be the matrix formed by normalizing the rows of $\\widehat{M}$ so they sum to one. Let $w_t$ be the $1 \\times 769$ state vector at step $t$. Set $w_0$ to the uniform distribution. Therefore, $w_t$ is the marginal distribution on each state after $t$ steps given that the starting state is chosen uniformly at random."
   ]
  },
  {
   "cell_type": "markdown",
   "metadata": {},
   "source": [
    "---\n",
    "## Problem 1:\n",
    "> Use $w_t$ to rank the teams by sorting in decreasing value according to this vector. List the top 25 team names (see accompanying file) and their corresponding values in $w_t$ for $t=10, 100, 1000, 10000$."
   ]
  },
  {
   "cell_type": "markdown",
   "metadata": {},
   "source": [
    "|![](images/fig1.png)|\n",
    "|:---:|\n",
    "|Top 25 teams after different interations|"
   ]
  },
  {
   "cell_type": "markdown",
   "metadata": {},
   "source": [
    "---\n",
    "## Problem 2:\n",
    "> We saw that $w_{\\infty}$ is related to the first eigenvector of $M^T$. That is, we can find $w_{\\infty}$ by getting the first eigenvector and eigenvalue of $M^T$ and post-processing:$$M^T u_1 = \\lambda_1 u_1, ~~ w_{\\infty} = \\frac{u_1^T}{\\left[ \\sum_j u_1 (j) \\right]}$$This is because $u_1^T u_1  = 1$ by convention. Also, we observe that $\\lambda_1 = 1$ for this specific matrix. Plot $||w_t - w_{\\infty}||_1$ as a function of $t$ for $t=10, ..., 10000$."
   ]
  },
  {
   "cell_type": "markdown",
   "metadata": {},
   "source": [
    "|![](images/fig2.png)|\n",
    "|:---:|\n",
    "|Variation of $||w_t - w_{\\infty}||_1$ by iterations|"
   ]
  }
 ],
 "metadata": {
  "kernelspec": {
   "display_name": "Python 3.7.6 64-bit ('ml': conda)",
   "language": "python",
   "name": "python37664bitmlconda706340e93e3048b4937743173be114e4"
  },
  "language_info": {
   "codemirror_mode": {
    "name": "ipython",
    "version": 3
   },
   "file_extension": ".py",
   "mimetype": "text/x-python",
   "name": "python",
   "nbconvert_exporter": "python",
   "pygments_lexer": "ipython3",
   "version": "3.7.6"
  }
 },
 "nbformat": 4,
 "nbformat_minor": 2
}
